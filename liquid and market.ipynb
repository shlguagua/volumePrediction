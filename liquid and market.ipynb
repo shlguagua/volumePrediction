{
 "cells": [
  {
   "cell_type": "code",
   "execution_count": null,
   "id": "e447a225-dfee-44ac-b540-17be384961a1",
   "metadata": {},
   "outputs": [],
   "source": [
    "import pandas as pd\n",
    "# 读取第一个 CSV 文件，包含 market_cap 数据列\n",
    "market_cap_df = pd.read_csv('Profile_20200701-20200930.csv')\n",
    "tickers = market_cap_df.iloc[:, 0]  # 第一列为股票名\n",
    "market_cap = market_cap_df.iloc[:, 5]  # 第五列为数据\n",
    "# 读取第二个 CSV 文件，包含 liq_grp 数据列\n",
    "liq_grp_df = pd.read_csv('liq_grp.csv')\n",
    "liq_grp = liq_grp_df.iloc[:, 1]  # 第二列为数据\n",
    "market_cap_labels = ['Small', 'Medium', 'Large']\n",
    "liq_grp_labels = ['Liq', 'Norm', 'Illiq'] # 对 market_cap 列进行分组\n",
    "market_cap_groups = pd.qcut(market_cap, q=3, labels=market_cap_labels) # 对 liq_grp 列进行分组\n",
    "liq_grp_groups = pd.qcut(liq_grp, q=3, labels=liq_grp_labels) # 打印股票名和分组结果\n",
    "for ticker, market_cap_group, liq_grp_group in zip(tickers, market_cap_groups, liq_grp_groups):\n",
    "    print(f\"股票名: {ticker}\")\n",
    "    print(f\"Market Cap Group: {market_cap_group}\")\n",
    "    print(f\"Liquidity Group Group: {liq_grp_group}\")\n",
    "    print()\n",
    "    \n",
    "#如果要指定股票\n",
    "interested_stocks = [target_stocks = ['725', '300015', '300185', '1', '2', '807', '2340', '000001', '300750', '300059', '166', '9']\n",
    "\n",
    "# 打印特定股票的分组结果\n",
    "for ticker, market_cap_group, liq_grp_group in zip(tickers, market_cap_groups, liq_grp_groups):\n",
    "    if ticker in interested_stocks:\n",
    "        print(f\"股票名: {ticker}\")\n",
    "        print(f\"Market Cap Group: {market_cap_group}\")\n",
    "        print(f\"Liquidity Group Group: {liq_grp_group}\")\n",
    "        print()\n",
    "\n"
   ]
  }
 ],
 "metadata": {
  "kernelspec": {
   "display_name": "Python 3 (ipykernel)",
   "language": "python",
   "name": "python3"
  },
  "language_info": {
   "codemirror_mode": {
    "name": "ipython",
    "version": 3
   },
   "file_extension": ".py",
   "mimetype": "text/x-python",
   "name": "python",
   "nbconvert_exporter": "python",
   "pygments_lexer": "ipython3",
   "version": "3.9.15"
  }
 },
 "nbformat": 4,
 "nbformat_minor": 5
}
