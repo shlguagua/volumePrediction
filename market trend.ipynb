{
 "cells": [
  {
   "cell_type": "code",
   "execution_count": null,
   "id": "0e9b3b11-f5ed-44f2-ad9d-19ed3e8832f4",
   "metadata": {},
   "outputs": [],
   "source": [
    "from datetime import datetime\n",
    "from data.jq_data import JQIndexData\n",
    "class MarketTrend:\n",
    "    def __init__(self, cfg):\n",
    "        self.config = cfg\n",
    "        self.data_dir = self.config['marketDataDir']\n",
    "        self.index_str = self.config['market_index']\n",
    "        self.start_date = self.config['market_start_date']\n",
    "        self.end_date = self.config['market_end_date']\n",
    "        self.jq_data_conf = self.config['jq_data']\n",
    "        self.jq_data = JQIndexData(self.config)\n",
    "        self.config['market_condition']['Big_Drop']\n",
    "#如果已经选定日期，可以直接读取csv文件，只需要读取market condition\n",
    "import pandas as pd\n",
    "\n",
    "def determine_market_trend(ret, market_condition):\n",
    "    if ret < market_condition['Big_Drop']:\n",
    "        return \"Big_Drop\"\n",
    "    elif ret <= market_condition['Small_Drop']:\n",
    "        return \"Small_Drop\"\n",
    "    elif ret <= market_condition['Small_Rise']:\n",
    "        return \"Normal\"\n",
    "    elif ret <= market_condition['Big_Rise']:\n",
    "        return \"Small_Rise\"\n",
    "    else:\n",
    "        return \"Big_Rise\"\n",
    "\n",
    "# 读取 CSV 文件\n",
    "data = pd.read_csv('Profile_20200701-20200930.csv')\n",
    "\n",
    "# 计算收益率并判断市场趋势\n",
    "for index, row in data.iterrows():\n",
    "    stock_name = row['股票名称']\n",
    "    VP_O = row['9']\n",
    "    VP_C = row['10']\n",
    "    ret = (VP_C - VP_O) / VP_O\n",
    "\n",
    "    market_condition = config_data['market_condition']\n",
    "\n",
    "    trend = determine_market_trend(ret, market_condition)\n",
    "\n",
    "    print(f\"股票名称: {stock_name}, 市场趋势: {trend}\")\n",
    "\n"
   ]
  }
 ],
 "metadata": {
  "kernelspec": {
   "display_name": "Python 3 (ipykernel)",
   "language": "python",
   "name": "python3"
  },
  "language_info": {
   "codemirror_mode": {
    "name": "ipython",
    "version": 3
   },
   "file_extension": ".py",
   "mimetype": "text/x-python",
   "name": "python",
   "nbconvert_exporter": "python",
   "pygments_lexer": "ipython3",
   "version": "3.9.15"
  }
 },
 "nbformat": 4,
 "nbformat_minor": 5
}
